{
  "nbformat": 4,
  "nbformat_minor": 0,
  "metadata": {
    "colab": {
      "name": "#1Live.ipynb",
      "provenance": [],
      "collapsed_sections": [],
      "authorship_tag": "ABX9TyNYNiMyOi5kNzSVmDFe9Viu",
      "include_colab_link": true
    },
    "kernelspec": {
      "name": "python3",
      "display_name": "Python 3"
    },
    "language_info": {
      "name": "python"
    }
  },
  "cells": [
    {
      "cell_type": "markdown",
      "metadata": {
        "id": "view-in-github",
        "colab_type": "text"
      },
      "source": [
        "<a href=\"https://colab.research.google.com/github/CryptoRobotFr/1-create-personnal-trading-bot/blob/main/trading-bot-backtest-binance.ipynb\" target=\"_parent\"><img src=\"https://colab.research.google.com/assets/colab-badge.svg\" alt=\"Open In Colab\"/></a>"
      ]
    },
    {
      "cell_type": "markdown",
      "metadata": {
        "id": "-nCTjinN1dXd"
      },
      "source": [
        "<h1>Package installation</h1>"
      ]
    },
    {
      "cell_type": "code",
      "metadata": {
        "id": "FQpoFECiJiLG"
      },
      "source": [
        "pip install python-binance"
      ],
      "execution_count": null,
      "outputs": []
    },
    {
      "cell_type": "code",
      "metadata": {
        "id": "jCqp0WHeLjZ-"
      },
      "source": [
        "pip install ta"
      ],
      "execution_count": null,
      "outputs": []
    },
    {
      "cell_type": "markdown",
      "metadata": {
        "id": "G3kKKxoL1xNo"
      },
      "source": [
        "<h1>Import, define Client and dowload data</h1>"
      ]
    },
    {
      "cell_type": "code",
      "metadata": {
        "id": "ix8j_V3gWOt5"
      },
      "source": [
        "import pandas as pd\n",
        "from binance.client import Client\n",
        "import ta\n",
        "\n",
        "klinesT = Client().get_historical_klines(\"BTCUSDT\", Client.KLINE_INTERVAL_1HOUR, \"01 January 2017\")\n",
        "df = pd.DataFrame(klinesT, columns = ['timestamp', 'open', 'high', 'low', 'close', 'volume', 'close_time', 'quote_av', 'trades', 'tb_base_av', 'tb_quote_av', 'ignore' ])\n"
      ],
      "execution_count": null,
      "outputs": []
    },
    {
      "cell_type": "code",
      "metadata": {
        "colab": {
          "base_uri": "https://localhost:8080/"
        },
        "id": "3rZgT34PLMDV",
        "outputId": "6bb40e42-dcff-445a-cf5f-934c8180c7eb"
      },
      "source": [
        "print(df)"
      ],
      "execution_count": null,
      "outputs": [
        {
          "output_type": "stream",
          "text": [
            "           timestamp            open  ...        tb_quote_av         ignore\n",
            "0      1502942400000   4261.48000000  ...    150952.47794304  7887.63551305\n",
            "1      1502946000000   4308.83000000  ...     92608.27972836  8039.26240152\n",
            "2      1502949600000   4330.29000000  ...     20795.31722405  8041.76049845\n",
            "3      1502953200000   4316.62000000  ...     11291.34701534  8048.12788573\n",
            "4      1502956800000   4333.32000000  ...      3552.74681715  8018.03650010\n",
            "...              ...             ...  ...                ...            ...\n",
            "34608  1627963200000  38658.48000000  ...  53431042.06169605              0\n",
            "34609  1627966800000  38328.01000000  ...  63024933.69639862              0\n",
            "34610  1627970400000  38254.85000000  ...  29037290.12167302              0\n",
            "34611  1627974000000  38357.16000000  ...  38545586.82107762              0\n",
            "34612  1627977600000  38593.43000000  ...  21559871.55930909              0\n",
            "\n",
            "[34613 rows x 12 columns]\n"
          ],
          "name": "stdout"
        }
      ]
    },
    {
      "cell_type": "markdown",
      "metadata": {
        "id": "j2qoKyrH1-E0"
      },
      "source": [
        "<h1>Clean Dataset</h1>"
      ]
    },
    {
      "cell_type": "code",
      "metadata": {
        "colab": {
          "base_uri": "https://localhost:8080/"
        },
        "id": "1_qIvDVLWpHH",
        "outputId": "b2d84381-e4aa-4090-e3cc-69944b2b2832"
      },
      "source": [
        "del df['ignore']\n",
        "del df['close_time']\n",
        "del df['quote_av']\n",
        "del df['trades']\n",
        "del df['tb_base_av']\n",
        "del df['tb_quote_av']\n",
        "\n",
        "df['close'] = pd.to_numeric(df['close'])\n",
        "df['high'] = pd.to_numeric(df['high'])\n",
        "df['low'] = pd.to_numeric(df['low'])\n",
        "df['open'] = pd.to_numeric(df['open'])\n",
        "print(df)"
      ],
      "execution_count": null,
      "outputs": [
        {
          "output_type": "stream",
          "text": [
            "           timestamp      open      high       low     close         volume\n",
            "0      1502942400000   4261.48   4313.62   4261.32   4308.83    47.18100900\n",
            "1      1502946000000   4308.83   4328.69   4291.37   4315.32    23.23491600\n",
            "2      1502949600000   4330.29   4345.45   4309.37   4324.35     7.22969100\n",
            "3      1502953200000   4316.62   4349.99   4287.41   4349.99     4.44324900\n",
            "4      1502956800000   4333.32   4377.85   4333.32   4360.69     0.97280700\n",
            "...              ...       ...       ...       ...       ...            ...\n",
            "34608  1627963200000  38658.48  38828.59  38211.00  38328.01  3262.56820200\n",
            "34609  1627966800000  38328.01  38378.25  37955.52  38254.85  3774.60379900\n",
            "34610  1627970400000  38254.85  38449.97  38199.69  38357.16  1387.67780100\n",
            "34611  1627974000000  38357.16  38665.75  38252.40  38593.44  2015.56702900\n",
            "34612  1627977600000  38593.43  38666.00  38315.00  38530.14  1322.38610600\n",
            "\n",
            "[34613 rows x 6 columns]\n"
          ],
          "name": "stdout"
        }
      ]
    },
    {
      "cell_type": "markdown",
      "metadata": {
        "id": "aifRp6A32Rip"
      },
      "source": [
        "<h1>Convert time</h1>"
      ]
    },
    {
      "cell_type": "code",
      "metadata": {
        "colab": {
          "base_uri": "https://localhost:8080/"
        },
        "id": "b-9luR8aW7-o",
        "outputId": "46974b07-aed4-4b42-9cc3-27577ff89fda"
      },
      "source": [
        "df = df.set_index(df['timestamp'])\n",
        "df.index = pd.to_datetime(df.index, unit='ms')\n",
        "\n",
        "del df['timestamp']\n",
        "print(df)"
      ],
      "execution_count": null,
      "outputs": [
        {
          "output_type": "stream",
          "text": [
            "                         open      high       low     close         volume\n",
            "timestamp                                                                 \n",
            "2017-08-17 04:00:00   4261.48   4313.62   4261.32   4308.83    47.18100900\n",
            "2017-08-17 05:00:00   4308.83   4328.69   4291.37   4315.32    23.23491600\n",
            "2017-08-17 06:00:00   4330.29   4345.45   4309.37   4324.35     7.22969100\n",
            "2017-08-17 07:00:00   4316.62   4349.99   4287.41   4349.99     4.44324900\n",
            "2017-08-17 08:00:00   4333.32   4377.85   4333.32   4360.69     0.97280700\n",
            "...                       ...       ...       ...       ...            ...\n",
            "2021-08-03 04:00:00  38658.48  38828.59  38211.00  38328.01  3262.56820200\n",
            "2021-08-03 05:00:00  38328.01  38378.25  37955.52  38254.85  3774.60379900\n",
            "2021-08-03 06:00:00  38254.85  38449.97  38199.69  38357.16  1387.67780100\n",
            "2021-08-03 07:00:00  38357.16  38665.75  38252.40  38593.44  2015.56702900\n",
            "2021-08-03 08:00:00  38593.43  38666.00  38315.00  38530.14  1322.38610600\n",
            "\n",
            "[34613 rows x 5 columns]\n"
          ],
          "name": "stdout"
        }
      ]
    },
    {
      "cell_type": "markdown",
      "metadata": {
        "id": "WF-auzhx2a0S"
      },
      "source": [
        "<h1>Define my indicators</h1>"
      ]
    },
    {
      "cell_type": "code",
      "metadata": {
        "colab": {
          "base_uri": "https://localhost:8080/"
        },
        "id": "u9-_ogs6Ys_t",
        "outputId": "e8bd5b95-292b-474a-efab-cc010fca63ef"
      },
      "source": [
        "df['SMA200'] = ta.trend.sma_indicator(df['close'], 200)\n",
        "df['SMA600'] = ta.trend.sma_indicator(df['close'], 600)\n",
        "print(df)"
      ],
      "execution_count": null,
      "outputs": [
        {
          "output_type": "stream",
          "text": [
            "                         open      high  ...       SMA200        SMA600\n",
            "timestamp                                ...                           \n",
            "2017-08-17 04:00:00   4261.48   4313.62  ...          NaN           NaN\n",
            "2017-08-17 05:00:00   4308.83   4328.69  ...          NaN           NaN\n",
            "2017-08-17 06:00:00   4330.29   4345.45  ...          NaN           NaN\n",
            "2017-08-17 07:00:00   4316.62   4349.99  ...          NaN           NaN\n",
            "2017-08-17 08:00:00   4333.32   4377.85  ...          NaN           NaN\n",
            "...                       ...       ...  ...          ...           ...\n",
            "2021-08-03 04:00:00  38658.48  38828.59  ...  39654.68730  34845.906650\n",
            "2021-08-03 05:00:00  38328.01  38378.25  ...  39673.20655  34854.671100\n",
            "2021-08-03 06:00:00  38254.85  38449.97  ...  39691.70845  34863.818533\n",
            "2021-08-03 07:00:00  38357.16  38665.75  ...  39707.77055  34873.290583\n",
            "2021-08-03 08:00:00  38593.43  38666.00  ...  39716.58390  34882.827200\n",
            "\n",
            "[34613 rows x 7 columns]\n"
          ],
          "name": "stdout"
        }
      ]
    },
    {
      "cell_type": "markdown",
      "metadata": {
        "id": "QWPklOAZ2fG-"
      },
      "source": [
        "<h1>Make backtest</h1>"
      ]
    },
    {
      "cell_type": "code",
      "metadata": {
        "colab": {
          "base_uri": "https://localhost:8080/"
        },
        "id": "EHrS5HNwZGJ8",
        "outputId": "cd119ac0-b820-4309-ed5b-b3b0af4d5650"
      },
      "source": [
        "usdt = 1000\n",
        "btc = 0\n",
        "lastIndex = df.first_valid_index()\n",
        "\n",
        "for index, row in df.iterrows():\n",
        "  if df['SMA200'][lastIndex] > df['SMA600'][lastIndex] and usdt > 10:\n",
        "    btc = usdt / df['close'][index] \n",
        "    btc = btc - 0.0007 * btc\n",
        "    usdt = 0\n",
        "    print(\"Buy BTC at\",df['close'][index],'$ the', index)\n",
        "\n",
        "  if df['SMA200'][lastIndex] < df['SMA600'][lastIndex] and btc > 0.0001:\n",
        "    usdt = btc * df['close'][index]\n",
        "    usdt = usdt - 0.0007 * usdt\n",
        "    btc = 0\n",
        "    print(\"Sell BTC at\",df['close'][index],'$ the', index)\n",
        "  lastIndex = index"
      ],
      "execution_count": null,
      "outputs": [
        {
          "output_type": "stream",
          "text": [
            "Buy BTC at 4191.53 $ the 2017-09-11 11:00:00\n",
            "Sell BTC at 4259.44 $ the 2017-09-12 13:00:00\n",
            "Buy BTC at 4302.02 $ the 2017-10-01 08:00:00\n",
            "Sell BTC at 16351.02 $ the 2017-12-27 05:00:00\n",
            "Buy BTC at 14219.61 $ the 2018-01-10 06:00:00\n",
            "Sell BTC at 14195.0 $ the 2018-01-15 12:00:00\n",
            "Buy BTC at 10940.0 $ the 2018-02-19 17:00:00\n",
            "Sell BTC at 8704.0 $ the 2018-03-11 07:00:00\n",
            "Buy BTC at 8018.98 $ the 2018-04-16 21:00:00\n",
            "Sell BTC at 8665.97 $ the 2018-05-14 00:00:00\n",
            "Buy BTC at 6584.36 $ the 2018-07-07 10:00:00\n",
            "Sell BTC at 7087.99 $ the 2018-08-07 11:00:00\n",
            "Buy BTC at 6902.74 $ the 2018-08-28 04:00:00\n",
            "Sell BTC at 6355.0 $ the 2018-09-11 03:00:00\n",
            "Buy BTC at 6669.36 $ the 2018-09-27 19:00:00\n",
            "Sell BTC at 6309.02 $ the 2018-10-12 22:00:00\n",
            "Buy BTC at 6573.58 $ the 2018-10-20 10:00:00\n",
            "Sell BTC at 6491.85 $ the 2018-10-28 10:00:00\n",
            "Buy BTC at 4125.4 $ the 2018-12-24 04:00:00\n",
            "Sell BTC at 3588.24 $ the 2019-01-13 02:00:00\n",
            "Buy BTC at 3626.58 $ the 2019-02-12 04:00:00\n",
            "Sell BTC at 7660.98 $ the 2019-06-09 18:00:00\n",
            "Buy BTC at 9105.21 $ the 2019-06-17 06:00:00\n",
            "Sell BTC at 9431.52 $ the 2019-07-17 04:00:00\n",
            "Buy BTC at 11692.8 $ the 2019-08-06 01:00:00\n",
            "Sell BTC at 10886.0 $ the 2019-08-20 01:00:00\n",
            "Buy BTC at 10541.4 $ the 2019-09-08 03:00:00\n",
            "Sell BTC at 10028.87 $ the 2019-09-22 23:00:00\n",
            "Buy BTC at 9660.0 $ the 2019-10-27 17:00:00\n",
            "Sell BTC at 8564.64 $ the 2019-11-15 05:00:00\n",
            "Buy BTC at 7206.3 $ the 2019-12-27 00:00:00\n",
            "Sell BTC at 9601.09 $ the 2020-02-24 19:00:00\n",
            "Buy BTC at 6368.68 $ the 2020-04-01 03:00:00\n",
            "Sell BTC at 8859.62 $ the 2020-05-27 04:00:00\n",
            "Buy BTC at 10115.56 $ the 2020-06-02 11:00:00\n",
            "Sell BTC at 9403.01 $ the 2020-06-18 13:00:00\n",
            "Buy BTC at 9290.23 $ the 2020-07-13 18:00:00\n",
            "Sell BTC at 9117.69 $ the 2020-07-17 10:00:00\n",
            "Buy BTC at 9164.57 $ the 2020-07-18 16:00:00\n",
            "Sell BTC at 11400.12 $ the 2020-08-27 01:00:00\n",
            "Buy BTC at 10417.22 $ the 2020-09-21 23:00:00\n",
            "Sell BTC at 10571.36 $ the 2020-10-06 19:00:00\n",
            "Buy BTC at 11363.33 $ the 2020-10-10 18:00:00\n",
            "Sell BTC at 32801.15 $ the 2021-01-24 07:00:00\n",
            "Buy BTC at 37366.02 $ the 2021-02-05 03:00:00\n",
            "Sell BTC at 47789.87 $ the 2021-03-02 22:00:00\n",
            "Buy BTC at 54632.79 $ the 2021-03-10 08:00:00\n",
            "Sell BTC at 57854.32 $ the 2021-03-29 11:00:00\n",
            "Buy BTC at 58670.64 $ the 2021-04-02 20:00:00\n",
            "Sell BTC at 54744.24 $ the 2021-04-22 14:00:00\n",
            "Buy BTC at 57584.01 $ the 2021-05-07 19:00:00\n",
            "Sell BTC at 47964.69 $ the 2021-05-15 22:00:00\n",
            "Buy BTC at 39952.7 $ the 2021-06-16 09:00:00\n",
            "Sell BTC at 33982.26 $ the 2021-06-23 07:00:00\n",
            "Buy BTC at 38242.96 $ the 2021-07-27 14:00:00\n"
          ],
          "name": "stdout"
        }
      ]
    },
    {
      "cell_type": "markdown",
      "metadata": {
        "id": "AiJZXf662rG9"
      },
      "source": [
        "<h1>Print final result and buy and hold result</h1>"
      ]
    },
    {
      "cell_type": "code",
      "metadata": {
        "colab": {
          "base_uri": "https://localhost:8080/"
        },
        "id": "ihXSgCneZqFD",
        "outputId": "8d862a24-c468-4e84-8ac9-fff33325fee8"
      },
      "source": [
        "finalResult = usdt + btc * df['close'].iloc[-1]\n",
        "print(\"Final result\",finalResult,'USDT')"
      ],
      "execution_count": null,
      "outputs": [
        {
          "output_type": "stream",
          "text": [
            "Final result 17325.62319936932 USDT\n"
          ],
          "name": "stdout"
        }
      ]
    },
    {
      "cell_type": "code",
      "metadata": {
        "id": "1PeWazqLZ6d5",
        "colab": {
          "base_uri": "https://localhost:8080/"
        },
        "outputId": "5910204d-293f-4b49-d261-1b6eead2a360"
      },
      "source": [
        "print(\"Buy and hold result\", (1000 / df['close'].iloc[0]) * df['close'].iloc[-1],'USDT')"
      ],
      "execution_count": null,
      "outputs": [
        {
          "output_type": "stream",
          "text": [
            "Buy and hold result 8942.135103960936 USDT\n"
          ],
          "name": "stdout"
        }
      ]
    }
  ]
}
