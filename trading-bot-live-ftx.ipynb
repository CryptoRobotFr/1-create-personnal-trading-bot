{
  "nbformat": 4,
  "nbformat_minor": 0,
  "metadata": {
    "colab": {
      "name": "#1LiveFtx.ipynb",
      "provenance": [],
      "collapsed_sections": [],
      "authorship_tag": "ABX9TyOliiwqHNy53L11P9oLufFr",
      "include_colab_link": true
    },
    "kernelspec": {
      "name": "python3",
      "display_name": "Python 3"
    },
    "language_info": {
      "name": "python"
    }
  },
  "cells": [
    {
      "cell_type": "markdown",
      "metadata": {
        "id": "view-in-github",
        "colab_type": "text"
      },
      "source": [
        "<a href=\"https://colab.research.google.com/github/CryptoRobotFr/1-create-personnal-trading-bot/blob/main/trading-bot-live-ftx.ipynb\" target=\"_parent\"><img src=\"https://colab.research.google.com/assets/colab-badge.svg\" alt=\"Open In Colab\"/></a>"
      ]
    },
    {
      "cell_type": "markdown",
      "metadata": {
        "id": "ju9txozMPapz"
      },
      "source": [
        "<h1>Package installation</h1>"
      ]
    },
    {
      "cell_type": "code",
      "metadata": {
        "id": "TcGCsWFvhA7c"
      },
      "source": [
        "pip install ftx"
      ],
      "execution_count": null,
      "outputs": []
    },
    {
      "cell_type": "code",
      "metadata": {
        "id": "ezh92aPJkXnW"
      },
      "source": [
        "pip install ciso8601"
      ],
      "execution_count": null,
      "outputs": []
    },
    {
      "cell_type": "code",
      "metadata": {
        "id": "IhgURIlcjzZk"
      },
      "source": [
        "pip install ta"
      ],
      "execution_count": null,
      "outputs": []
    },
    {
      "cell_type": "markdown",
      "metadata": {
        "id": "PSfsN4qgPvr4"
      },
      "source": [
        "<h1>Import, define Client, dowload data and create indicators</h1>"
      ]
    },
    {
      "cell_type": "code",
      "metadata": {
        "colab": {
          "base_uri": "https://localhost:8080/"
        },
        "id": "lUv_7VPVj3Lw",
        "outputId": "fd1eef87-ccda-4ffb-877f-4e1f0239fd46"
      },
      "source": [
        "import ftx\n",
        "import pandas as pd\n",
        "import ta\n",
        "import time\n",
        "import json\n",
        "from math import *\n",
        "\n",
        "accountName = 'Ytb-Tester'\n",
        "pairSymbol = 'BTC/USD'\n",
        "fiatSymbol = 'USD'\n",
        "cryptoSymbol = 'BTC'\n",
        "myTruncate = 4\n",
        "\n",
        "client = ftx.FtxClient(api_key='',\n",
        "                   api_secret='', subaccount_name=accountName)\n",
        "\n",
        "data = client.get_historical_data(\n",
        "    market_name=pairSymbol, \n",
        "    resolution=3600, \n",
        "    limit=650, \n",
        "    start_time=float(\n",
        "    round(time.time()))-650*3600, \n",
        "    end_time=float(round(time.time())))\n",
        "df = pd.DataFrame(data)\n",
        "\n",
        "df['SMA200'] = ta.trend.sma_indicator(df['close'], 200)\n",
        "df['SMA600'] = ta.trend.sma_indicator(df['close'], 600)\n",
        "print(df)"
      ],
      "execution_count": null,
      "outputs": [
        {
          "output_type": "stream",
          "text": [
            "                     startTime          time  ...     SMA200        SMA600\n",
            "0    2021-07-07T09:00:00+00:00  1.625648e+12  ...        NaN           NaN\n",
            "1    2021-07-07T10:00:00+00:00  1.625652e+12  ...        NaN           NaN\n",
            "2    2021-07-07T11:00:00+00:00  1.625656e+12  ...        NaN           NaN\n",
            "3    2021-07-07T12:00:00+00:00  1.625659e+12  ...        NaN           NaN\n",
            "4    2021-07-07T13:00:00+00:00  1.625663e+12  ...        NaN           NaN\n",
            "..                         ...           ...  ...        ...           ...\n",
            "645  2021-08-03T06:00:00+00:00  1.627970e+12  ...  39709.650  34873.931667\n",
            "646  2021-08-03T07:00:00+00:00  1.627974e+12  ...  39725.570  34883.405000\n",
            "647  2021-08-03T08:00:00+00:00  1.627978e+12  ...  39734.320  34892.923333\n",
            "648  2021-08-03T09:00:00+00:00  1.627981e+12  ...  39735.975  34902.498333\n",
            "649  2021-08-03T10:00:00+00:00  1.627985e+12  ...  39739.165  34912.210000\n",
            "\n",
            "[650 rows x 9 columns]\n"
          ],
          "name": "stdout"
        }
      ]
    },
    {
      "cell_type": "markdown",
      "metadata": {
        "id": "-rmujjp_P4_b"
      },
      "source": [
        "<h1>Get balance of your account</h1>"
      ]
    },
    {
      "cell_type": "code",
      "metadata": {
        "colab": {
          "base_uri": "https://localhost:8080/"
        },
        "id": "U_Q34Fy0AMSN",
        "outputId": "104116f7-b893-47a3-9f66-453b798a2c7c"
      },
      "source": [
        "def getBalance(myclient, coin):\n",
        "    jsonBalance = myclient.get_balances()\n",
        "    pandaBalance = pd.DataFrame(jsonBalance)\n",
        "    if pandaBalance.loc[pandaBalance['coin'] == coin].empty : return 0\n",
        "    else : return float(pandaBalance.loc[pandaBalance['coin'] == coin]['free'])\n",
        "\n",
        "def truncate(n, decimals=0):\n",
        "    r = floor(float(n)*10**decimals)/10**decimals\n",
        "    return str(r)\n",
        "    \n",
        "\n",
        "actualPrice = df['close'].iloc[-1]\n",
        "fiatAmount = getBalance(client, fiatSymbol)\n",
        "cryptoAmount = getBalance(client, cryptoSymbol)\n",
        "print(actualPrice, fiatAmount, cryptoAmount)"
      ],
      "execution_count": null,
      "outputs": [
        {
          "output_type": "stream",
          "text": [
            "38715.0 38.58364582 0.0\n"
          ],
          "name": "stdout"
        }
      ]
    },
    {
      "cell_type": "markdown",
      "metadata": {
        "id": "YRcG5LnlQBKd"
      },
      "source": [
        "<h1>Define Buy and Sell condition and place order</h1>"
      ]
    },
    {
      "cell_type": "code",
      "metadata": {
        "colab": {
          "base_uri": "https://localhost:8080/"
        },
        "id": "IgX3IZUeCVOA",
        "outputId": "1d29e1bd-3e69-4e9f-93cc-ad8f595f86a4"
      },
      "source": [
        "if float(fiatAmount) > 5 and df['SMA200'].iloc[-2] > df['SMA600'].iloc[-2]:\n",
        "    quantityBuy = truncate(float(fiatAmount)/actualPrice, myTruncate)\n",
        "    buyOrder = client.place_order(\n",
        "        market=pairSymbol, \n",
        "        side=\"buy\", \n",
        "        price=None, \n",
        "        size=quantityBuy, \n",
        "        type='market')\n",
        "    print(buyOrder)\n",
        "\n",
        "if float(cryptoAmount) > 0.0001 and df['SMA200'].iloc[-2] < df['SMA600'].iloc[-2]:\n",
        "    buyOrder = client.place_order(\n",
        "        market=pairSymbol, \n",
        "        side=\"sell\", \n",
        "        price=None, \n",
        "        size=truncate(cryptoAmount, myTruncate), \n",
        "        type='market')\n",
        "    print(buyOrder)"
      ],
      "execution_count": null,
      "outputs": [
        {
          "output_type": "stream",
          "text": [
            "{'id': 68174549224, 'clientId': None, 'market': 'BTC/USD', 'type': 'market', 'side': 'buy', 'price': None, 'size': 0.0009, 'status': 'new', 'filledSize': 0.0, 'remainingSize': 0.0009, 'reduceOnly': False, 'liquidation': None, 'avgFillPrice': None, 'postOnly': False, 'ioc': True, 'createdAt': '2021-08-03T10:51:38.331261+00:00', 'future': None}\n"
          ],
          "name": "stdout"
        }
      ]
    },
    {
      "cell_type": "markdown",
      "metadata": {
        "id": "oln3HJSCQGx5"
      },
      "source": [
        "<h1>Full code in one cell</h1>"
      ]
    },
    {
      "cell_type": "code",
      "metadata": {
        "colab": {
          "base_uri": "https://localhost:8080/"
        },
        "id": "ftPcf2TIpLCK",
        "outputId": "1c4adf8c-187a-42f9-ecc5-871c83b64e36"
      },
      "source": [
        "import ftx\n",
        "import pandas as pd\n",
        "import ta\n",
        "import time\n",
        "import json\n",
        "from math import *\n",
        "\n",
        "accountName = 'Ytb-Tester'\n",
        "pairSymbol = 'BTC/USD'\n",
        "fiatSymbol = 'USD'\n",
        "cryptoSymbol = 'BTC'\n",
        "myTruncate = 4\n",
        "\n",
        "client = ftx.FtxClient(api_key='xL6SYTqmHtawoCaihqkoqlCtW_q_vfJ6-xVZlnh6',\n",
        "                   api_secret='em2tgTy47IblAubmT18_yIAMwzDVXoTnM2hHCvWm', subaccount_name=accountName)\n",
        "\n",
        "data = client.get_historical_data(\n",
        "    market_name=pairSymbol, \n",
        "    resolution=3600, \n",
        "    limit=650, \n",
        "    start_time=float(\n",
        "    round(time.time()))-650*3600, \n",
        "    end_time=float(round(time.time())))\n",
        "df = pd.DataFrame(data)\n",
        "\n",
        "df['SMA200'] = ta.trend.sma_indicator(df['close'], 200)\n",
        "df['SMA600'] = ta.trend.sma_indicator(df['close'], 600)\n",
        "print(df)\n",
        "\n",
        "def getBalance(myclient, coin):\n",
        "    jsonBalance = myclient.get_balances()\n",
        "    pandaBalance = pd.DataFrame(jsonBalance)\n",
        "    if pandaBalance.loc[pandaBalance['coin'] == coin].empty : return 0\n",
        "    else : return float(pandaBalance.loc[pandaBalance['coin'] == coin]['free'])\n",
        "\n",
        "def truncate(n, decimals=0):\n",
        "    r = floor(float(n)*10**decimals)/10**decimals\n",
        "    return str(r)\n",
        "    \n",
        "\n",
        "actualPrice = df['close'].iloc[-1]\n",
        "fiatAmount = getBalance(client, fiatSymbol)\n",
        "cryptoAmount = getBalance(client, cryptoSymbol)\n",
        "print(actualPrice, fiatAmount, cryptoAmount)\n",
        "\n",
        "if float(fiatAmount) > 5 and df['SMA200'].iloc[-2] > df['SMA600'].iloc[-2]:\n",
        "    quantityBuy = truncate(float(fiatAmount)/actualPrice, myTruncate)\n",
        "    buyOrder = client.place_order(\n",
        "        market=pairSymbol, \n",
        "        side=\"buy\", \n",
        "        price=None, \n",
        "        size=quantityBuy, \n",
        "        type='market')\n",
        "    print(buyOrder)\n",
        "\n",
        "if float(cryptoAmount) > 0.0001 and df['SMA200'].iloc[-2] < df['SMA600'].iloc[-2]:\n",
        "    buyOrder = client.place_order(\n",
        "        market=pairSymbol, \n",
        "        side=\"sell\", \n",
        "        price=None, \n",
        "        size=truncate(cryptoAmount, myTruncate), \n",
        "        type='market')\n",
        "    print(buyOrder)"
      ],
      "execution_count": null,
      "outputs": [
        {
          "output_type": "stream",
          "text": [
            "                     startTime          time  ...     SMA200        SMA600\n",
            "0    2021-07-07T09:00:00+00:00  1.625648e+12  ...        NaN           NaN\n",
            "1    2021-07-07T10:00:00+00:00  1.625652e+12  ...        NaN           NaN\n",
            "2    2021-07-07T11:00:00+00:00  1.625656e+12  ...        NaN           NaN\n",
            "3    2021-07-07T12:00:00+00:00  1.625659e+12  ...        NaN           NaN\n",
            "4    2021-07-07T13:00:00+00:00  1.625663e+12  ...        NaN           NaN\n",
            "..                         ...           ...  ...        ...           ...\n",
            "645  2021-08-03T06:00:00+00:00  1.627970e+12  ...  39709.650  34873.931667\n",
            "646  2021-08-03T07:00:00+00:00  1.627974e+12  ...  39725.570  34883.405000\n",
            "647  2021-08-03T08:00:00+00:00  1.627978e+12  ...  39734.320  34892.923333\n",
            "648  2021-08-03T09:00:00+00:00  1.627981e+12  ...  39735.975  34902.498333\n",
            "649  2021-08-03T10:00:00+00:00  1.627985e+12  ...  39739.075  34912.180000\n",
            "\n",
            "[650 rows x 9 columns]\n",
            "38697.0 3.72397408 0.0009\n"
          ],
          "name": "stdout"
        }
      ]
    }
  ]
}